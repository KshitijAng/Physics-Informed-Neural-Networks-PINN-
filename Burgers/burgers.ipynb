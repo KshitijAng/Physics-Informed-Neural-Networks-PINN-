{
 "cells": [
  {
   "attachments": {},
   "cell_type": "markdown",
   "metadata": {},
   "source": [
    "![image.png](image.png)"
   ]
  },
  {
   "cell_type": "code",
   "execution_count": 1,
   "metadata": {
    "tags": []
   },
   "outputs": [],
   "source": [
    "import math\n",
    "import numpy as np\n",
    "import seaborn as sns\n",
    "import matplotlib.pyplot as plt\n",
    "from collections import OrderedDict\n",
    "from tqdm import tqdm\n",
    "\n",
    "import torch\n",
    "import torch.nn as nn"
   ]
  },
  {
   "cell_type": "code",
   "execution_count": 2,
   "metadata": {
    "tags": []
   },
   "outputs": [],
   "source": [
    "# Multi-layer Perceptron\n",
    "class NN(nn.Module):\n",
    "    def __init__(\n",
    "        self,\n",
    "        input_size,\n",
    "        hidden_size,\n",
    "        output_size,\n",
    "        depth,\n",
    "        act=torch.nn.Tanh,\n",
    "    ):\n",
    "        super(NN, self).__init__()\n",
    "        \n",
    "        layers = [('input', torch.nn.Linear(input_size, hidden_size))] # Input\n",
    "\n",
    "        layers.append(('input_activation', act())) # Activation\n",
    "\n",
    "        for i in range(depth): \n",
    "            layers.append(('hidden_%d' % i, torch.nn.Linear(hidden_size, hidden_size))) # Hidden Layer\n",
    "            layers.append(('activation_%d' % i, act())) # Activation for Hidden Layer\n",
    "\n",
    "        layers.append(('output', torch.nn.Linear(hidden_size, output_size)))\n",
    "\n",
    "        layerDict = OrderedDict(layers)\n",
    "        self.layers = torch.nn.Sequential(layerDict)\n",
    "\n",
    "    def forward(self, x):\n",
    "        out = self.layers(x)\n",
    "        return out"
   ]
  },
  {
   "cell_type": "code",
   "execution_count": 3,
   "metadata": {
    "tags": []
   },
   "outputs": [],
   "source": [
    "class Net:\n",
    "    def __init__(self):\n",
    "        device = torch.device(\"cuda\") if torch.cuda.is_available() else torch.device(\"cpu\")\n",
    "\n",
    "        self.model = NN(\n",
    "            input_size=2,\n",
    "            hidden_size=20,\n",
    "            output_size=1,\n",
    "            depth=4,\n",
    "            act=torch.nn.Tanh\n",
    "        ).to(device)\n",
    "        \n",
    "        \n",
    "        # Create spatial and temporal grids for the problem domain\n",
    "        self.h = 0.1 # This defines the step size (or spacing) for the spatial dimension (x).\n",
    "        self.k = 0.1 # This defines the step size (or spacing) for the temporal dimension (t).\n",
    "        x = torch.arange(-1, 1 + self.h, self.h)\n",
    "        t = torch.arange(0, 1 + self.k, self.k)\n",
    "\n",
    "        #  Constructs a 2D grid of all possible spatial (x) and temporal (t) combinations\n",
    "        self.X = torch.stack(torch.meshgrid(x, t)).reshape(2, -1).T\n",
    "        \n",
    "        # Boundary and Initial Condition Datas\n",
    "        bc1 = torch.stack(torch.meshgrid(x[0], t)).reshape(2, -1).T # Boundary condition at 𝑥=−1 (i.e., x[0]), with all values of t.\n",
    "        bc2 = torch.stack(torch.meshgrid(x[-1], t)).reshape(2, -1).T # Boundary condition at 𝑥=1 (i.e., x[-1]), with all values of t.\n",
    "        ic = torch.stack(torch.meshgrid(x, t[0])).reshape(2, -1).T # Initial condition at t=0 (i.e., t[0]), with all values of x.\n",
    "        \n",
    "        self.X_train = torch.cat([bc1, bc2, ic])\n",
    "        # Boundary and Initial Condition Values\n",
    "        y_bc1 = torch.zeros(len(bc1))\n",
    "        y_bc2 = torch.zeros(len(bc2))\n",
    "        y_ic = -torch.sin(math.pi * ic[:, 0])\n",
    "\n",
    "        # Concatenating Target Values\n",
    "        self.y_train = torch.cat([y_bc1, y_bc2, y_ic])\n",
    "        self.y_train = self.y_train.unsqueeze(1) # This adds an extra dimension at position 1 (the second dimension), which is required for the neural network outpu\n",
    "        \n",
    "        self.X = self.X.to(device)\n",
    "        self.X_train = self.X_train.to(device)\n",
    "        self.y_train = self.y_train.to(device)\n",
    "        self.X.requires_grad = True\n",
    "\n",
    "        # Loss and Optimizers\n",
    "        self.criterion = torch.nn.MSELoss() # Mean squared error (MSE) loss\n",
    "        self.iter = 1\n",
    "        \n",
    "# Two optimizers:\n",
    "# Adam: Used for initial training.\n",
    "# LBFGS: A second-order optimizer for fine-tuning.\n",
    "        self.optimizer = torch.optim.LBFGS(\n",
    "            self.model.parameters(), \n",
    "            lr=1.0, \n",
    "            max_iter=50000, \n",
    "            max_eval=50000, \n",
    "            history_size=50,\n",
    "            tolerance_grad=1e-7, \n",
    "            tolerance_change=1.0 * np.finfo(float).eps,\n",
    "            line_search_fn=\"strong_wolfe\",   # better numerical stability\n",
    "        )\n",
    "        \n",
    "        self.adam = torch.optim.Adam(self.model.parameters())\n",
    "\n",
    "\n",
    "    # Combining two terms: data loss (to fit boundary and initial conditions) and PDE loss (to enforce the governing Burgers' equation)\n",
    "    def loss_func(self):\n",
    "        # Resetting Gradients: avoid accumulation during backpropagation\n",
    "        self.adam.zero_grad()\n",
    "        self.optimizer.zero_grad()\n",
    "\n",
    "        # Data Loss Calculation\n",
    "        y_pred = self.model(self.X_train)\n",
    "        loss_data = self.criterion(y_pred, self.y_train)\n",
    "\n",
    "        # Physics Loss Calculation (Enforcing the Burgers' Equation)\n",
    "        u = self.model(self.X) # Predict 𝑢(𝑥,𝑡) Across the Entire Domain\n",
    "        \n",
    "       # First Derivatives\n",
    "        du_dX = torch.autograd.grad(\n",
    "            inputs=self.X, \n",
    "            outputs=u, \n",
    "            grad_outputs=torch.ones_like(u), \n",
    "            retain_graph=True, \n",
    "            create_graph=True\n",
    "        )[0]\n",
    "        \n",
    "        du_dt = du_dX[:, 1]\n",
    "        du_dx = du_dX[:, 0]\n",
    "\n",
    "        # Second Derivative\n",
    "        du_dxx = torch.autograd.grad(\n",
    "            inputs=self.X, \n",
    "            outputs=du_dX, \n",
    "            grad_outputs=torch.ones_like(du_dX), \n",
    "            retain_graph=True, \n",
    "            create_graph=True\n",
    "        )[0][:, 0]\n",
    "\n",
    "        # Enforce Burgers' Equation\n",
    "        loss_pde = self.criterion(du_dt + u.squeeze() * du_dx, 0.01 / math.pi * du_dxx)\n",
    "\n",
    "        # Combine Losses\n",
    "        loss = loss_pde + loss_data\n",
    "        loss.backward()\n",
    "\n",
    "        # Iterative Updates\n",
    "        if self.iter % 100 == 0: \n",
    "            print(self.iter, loss.item())\n",
    "        self.iter = self.iter + 1\n",
    "        return loss\n",
    "    \n",
    "    def train(self):\n",
    "        self.model.train()\n",
    "        for i in range(1000):\n",
    "            self.adam.step(self.loss_func)\n",
    "        self.optimizer.step(self.loss_func)\n",
    "        \n",
    "    def eval_(self):\n",
    "        self.model.eval()"
   ]
  },
  {
   "cell_type": "markdown",
   "metadata": {},
   "source": [
    "# Training"
   ]
  },
  {
   "cell_type": "code",
   "execution_count": 4,
   "metadata": {
    "scrolled": true,
    "tags": []
   },
   "outputs": [
    {
     "name": "stderr",
     "output_type": "stream",
     "text": [
      "C:\\Users\\lenovo\\Desktop\\PINN\\myenv\\lib\\site-packages\\torch\\functional.py:534: UserWarning: torch.meshgrid: in an upcoming release, it will be required to pass the indexing argument. (Triggered internally at C:\\actions-runner\\_work\\pytorch\\pytorch\\builder\\windows\\pytorch\\aten\\src\\ATen\\native\\TensorShape.cpp:3596.)\n",
      "  return _VF.meshgrid(tensors, **kwargs)  # type: ignore[attr-defined]\n",
      "C:\\Users\\lenovo\\Desktop\\PINN\\myenv\\lib\\site-packages\\torch\\autograd\\graph.py:825: UserWarning: Attempting to run cuBLAS, but there was no current CUDA context! Attempting to set the primary context... (Triggered internally at C:\\actions-runner\\_work\\pytorch\\pytorch\\builder\\windows\\pytorch\\aten\\src\\ATen\\cuda\\CublasHandlePool.cpp:135.)\n",
      "  return Variable._execution_engine.run_backward(  # Calls into the C++ engine to run the backward pass\n"
     ]
    },
    {
     "name": "stdout",
     "output_type": "stream",
     "text": [
      "100 0.14943470060825348\n",
      "200 0.08616840839385986\n",
      "300 0.06934791058301926\n",
      "400 0.051592499017715454\n",
      "500 0.024407820776104927\n",
      "600 0.021752581000328064\n",
      "700 0.013939851894974709\n",
      "800 0.010241433046758175\n",
      "900 0.00883820652961731\n",
      "1000 0.00959760695695877\n",
      "1100 0.003690598998218775\n",
      "1200 0.0013237383682280779\n",
      "1300 0.0006680632359348238\n",
      "1400 0.0004992844769731164\n",
      "1500 0.0003406035539228469\n",
      "1600 0.0002398333017481491\n",
      "1700 0.00019789946964010596\n",
      "1800 0.00016230190522037446\n",
      "1900 0.00014275839203037322\n",
      "2000 0.00012010739010293037\n",
      "2100 0.00010717808618210256\n",
      "2200 9.698877693153918e-05\n",
      "2300 8.499564864905551e-05\n",
      "2400 7.652605563635007e-05\n",
      "2500 6.454217509599403e-05\n",
      "2600 5.812633753521368e-05\n",
      "2700 5.2639341447502375e-05\n",
      "2800 4.8071415221784264e-05\n",
      "2900 4.525555414147675e-05\n",
      "3000 4.211385748931207e-05\n",
      "3100 4.0526341763325036e-05\n",
      "3200 3.837211988866329e-05\n",
      "3300 3.693326289067045e-05\n",
      "3400 3.5470300645101815e-05\n",
      "3500 3.3763371902750805e-05\n",
      "3600 3.3486470783827826e-05\n",
      "3700 3.0591687391279265e-05\n",
      "3800 2.9014114261372015e-05\n",
      "3900 2.8025686333421618e-05\n",
      "4000 2.6644567697076127e-05\n",
      "4100 2.5863406335702166e-05\n",
      "4200 2.520354973967187e-05\n",
      "4300 2.4622939235996455e-05\n",
      "4400 2.4263896193588153e-05\n",
      "4500 2.357101402594708e-05\n"
     ]
    }
   ],
   "source": [
    "net = Net()\n",
    "net.train()"
   ]
  },
  {
   "cell_type": "markdown",
   "metadata": {},
   "source": [
    "# Evaluation"
   ]
  },
  {
   "cell_type": "code",
   "execution_count": 5,
   "metadata": {
    "tags": []
   },
   "outputs": [],
   "source": [
    "# net.eval_()\n",
    "net.model.eval()\n",
    "h = 0.01\n",
    "k = 0.01\n",
    "x = torch.arange(-1, 1, h)\n",
    "t = torch.arange(0, 1, k)\n",
    "\n",
    "# exact solution\n",
    "X = torch.stack(torch.meshgrid(x, t)).reshape(2, -1).T\n",
    "X = X.to(net.X.device)"
   ]
  },
  {
   "cell_type": "code",
   "execution_count": 6,
   "metadata": {
    "tags": []
   },
   "outputs": [],
   "source": [
    "model = net.model\n",
    "model.eval()\n",
    "with torch.no_grad():\n",
    "    y_pred = model(X).reshape(len(x), len(t)).cpu().numpy()"
   ]
  },
  {
   "cell_type": "code",
   "execution_count": 8,
   "metadata": {
    "tags": []
   },
   "outputs": [
    {
     "data": {
      "text/plain": [
       "<Figure size 15000x9000 with 0 Axes>"
      ]
     },
     "execution_count": 8,
     "metadata": {},
     "output_type": "execute_result"
    },
    {
     "data": {
      "text/plain": [
       "<Figure size 15000x9000 with 0 Axes>"
      ]
     },
     "metadata": {},
     "output_type": "display_data"
    }
   ],
   "source": [
    "sns.set_style(\"white\")\n",
    "\n",
    "plt.figure(figsize=(5, 3), dpi=3000)"
   ]
  },
  {
   "cell_type": "markdown",
   "metadata": {},
   "source": [
    "### **Significance of `y_pred` in Terms of the Burgers' Equation**\n",
    "\n",
    "The array `y_pred` represents the **model's predicted values** of the solution \\( u(x, t) \\) to the Burgers' equation at the training points defined in the spatial-temporal grid \\( \\mathbf{X}_{\\text{train}} \\). Here's what it signifies:\n",
    "\n",
    "---\n",
    "\n",
    "### **1. Predicted Solution Values**\n",
    "- Each entry in the array corresponds to a predicted \\( u(x, t) \\), where:\n",
    "  - **Rows**: Represent different time steps \\( t \\).\n",
    "  - **Columns**: Represent different spatial locations \\( x \\).\n",
    "- For example:\n",
    "  - `y_pred[0][0]`: The predicted value of \\( u(x, t) \\) at the first spatial location \\( x \\) and the first time step \\( t \\).\n",
    "  - `y_pred[-1][-1]`: The predicted value of \\( u(x, t) \\) at the last spatial location \\( x \\) and the last time step \\( t \\).\n",
    "\n",
    "---\n",
    "\n",
    "### **2. Interpretation in Terms of the Burgers' Equation**\n",
    "The Burgers' equation is:\n",
    "![Alt Text](image1.png)\n",
    "\n",
    "\n",
    "---\n",
    "\n",
    "### **3. Observations**\n",
    "- **Values close to \\( 0 \\)**: Indicate that the solution at that point approaches the steady-state or initial conditions where \\( u(x, t) \\) might be near zero.\n",
    "- **Positive values**: Indicate upward deviation or propagation of waves.\n",
    "- **Negative values**: Indicate downward deviation or dissipation of waves.\n",
    "\n",
    "---\n",
    "\n",
    "\n",
    "### **In Summary**\n",
    "The `y_pred` array represents the neural network's approximation of the solution u(x, t) across the spatial-temporal domain. It serves as a critical component in:\n",
    "- Evaluating how well the network satisfies the Burgers' equation through the **PDE loss**.\n",
    "- Fitting the boundary and initial conditions through the **data loss**."
   ]
  },
  {
   "cell_type": "code",
   "execution_count": 9,
   "metadata": {},
   "outputs": [
    {
     "data": {
      "text/plain": [
       "array([[ 0.00215105,  0.00182072,  0.00154612, ..., -0.00142535,\n",
       "        -0.00145742, -0.0014924 ],\n",
       "       [ 0.0332996 ,  0.03201769,  0.03084669, ...,  0.00625411,\n",
       "         0.00616673,  0.00607804],\n",
       "       [ 0.06439368,  0.0621672 ,  0.06010381, ...,  0.01393137,\n",
       "         0.0137888 ,  0.01364551],\n",
       "       ...,\n",
       "       [-0.09248366, -0.08996549, -0.08762803, ..., -0.02481212,\n",
       "        -0.02462514, -0.02444287],\n",
       "       [-0.06114741, -0.05956497, -0.05811175, ..., -0.01683243,\n",
       "        -0.0167044 , -0.01657983],\n",
       "       [-0.02971431, -0.0290732 , -0.02850779, ..., -0.00883403,\n",
       "        -0.00876471, -0.00869825]], dtype=float32)"
      ]
     },
     "execution_count": 9,
     "metadata": {},
     "output_type": "execute_result"
    }
   ],
   "source": [
    "y_pred"
   ]
  },
  {
   "cell_type": "code",
   "execution_count": 10,
   "metadata": {},
   "outputs": [
    {
     "data": {
      "text/plain": [
       "<Axes: >"
      ]
     },
     "execution_count": 10,
     "metadata": {},
     "output_type": "execute_result"
    },
    {
     "data": {
      "image/png": "[encoded data removed]",
      "text/plain": [
       "<Figure size 640x480 with 2 Axes>"
      ]
     },
     "metadata": {},
     "output_type": "display_data"
    }
   ],
   "source": [
    "sns.heatmap(y_pred, cmap='jet')"
   ]
  }
 ],
 "metadata": {
  "kernelspec": {
   "display_name": "Python 3 (ipykernel)",
   "language": "python",
   "name": "python3"
  },
  "language_info": {
   "codemirror_mode": {
    "name": "ipython",
    "version": 3
   },
   "file_extension": ".py",
   "mimetype": "text/x-python",
   "name": "python",
   "nbconvert_exporter": "python",
   "pygments_lexer": "ipython3",
   "version": "3.10.11"
  }
 },
 "nbformat": 4,
 "nbformat_minor": 4
}
